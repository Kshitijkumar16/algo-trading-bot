{
 "cells": [
  {
   "cell_type": "code",
   "execution_count": 1,
   "id": "7ce2dd69",
   "metadata": {},
   "outputs": [
    {
     "ename": "NameError",
     "evalue": "name 'python' is not defined",
     "output_type": "error",
     "traceback": [
      "\u001b[1;31m---------------------------------------------------------------------------\u001b[0m",
      "\u001b[1;31mNameError\u001b[0m                                 Traceback (most recent call last)",
      "Input \u001b[1;32mIn [1]\u001b[0m, in \u001b[0;36m<cell line: 1>\u001b[1;34m()\u001b[0m\n\u001b[1;32m----> 1\u001b[0m \u001b[43mpython\u001b[49m \u001b[38;5;241m-\u001b[39m\u001b[38;5;241m-\u001b[39mversion\n",
      "\u001b[1;31mNameError\u001b[0m: name 'python' is not defined"
     ]
    }
   ],
   "source": [
    "python --version\n"
   ]
  },
  {
   "cell_type": "code",
   "execution_count": null,
   "id": "72c9da2a",
   "metadata": {},
   "outputs": [],
   "source": [
    "py --version"
   ]
  },
  {
   "cell_type": "code",
   "execution_count": 2,
   "id": "dc06ae16",
   "metadata": {},
   "outputs": [],
   "source": [
    "import pandas as pd"
   ]
  },
  {
   "cell_type": "code",
   "execution_count": 3,
   "id": "cad4865d",
   "metadata": {},
   "outputs": [],
   "source": [
    "df = pd.read_csv(\"all_stocks.csv\")"
   ]
  },
  {
   "cell_type": "code",
   "execution_count": 4,
   "id": "2c0f8d3c",
   "metadata": {},
   "outputs": [
    {
     "data": {
      "text/html": [
       "<div>\n",
       "<style scoped>\n",
       "    .dataframe tbody tr th:only-of-type {\n",
       "        vertical-align: middle;\n",
       "    }\n",
       "\n",
       "    .dataframe tbody tr th {\n",
       "        vertical-align: top;\n",
       "    }\n",
       "\n",
       "    .dataframe thead th {\n",
       "        text-align: right;\n",
       "    }\n",
       "</style>\n",
       "<table border=\"1\" class=\"dataframe\">\n",
       "  <thead>\n",
       "    <tr style=\"text-align: right;\">\n",
       "      <th></th>\n",
       "      <th>date</th>\n",
       "      <th>open</th>\n",
       "      <th>high</th>\n",
       "      <th>low</th>\n",
       "      <th>close</th>\n",
       "      <th>volume</th>\n",
       "      <th>Name</th>\n",
       "    </tr>\n",
       "  </thead>\n",
       "  <tbody>\n",
       "    <tr>\n",
       "      <th>0</th>\n",
       "      <td>2/8/2013</td>\n",
       "      <td>15.07</td>\n",
       "      <td>15.12</td>\n",
       "      <td>14.63</td>\n",
       "      <td>14.75</td>\n",
       "      <td>8407500</td>\n",
       "      <td>AAL</td>\n",
       "    </tr>\n",
       "    <tr>\n",
       "      <th>1</th>\n",
       "      <td>2/11/2013</td>\n",
       "      <td>14.89</td>\n",
       "      <td>15.01</td>\n",
       "      <td>14.26</td>\n",
       "      <td>14.46</td>\n",
       "      <td>8882000</td>\n",
       "      <td>AAL</td>\n",
       "    </tr>\n",
       "    <tr>\n",
       "      <th>2</th>\n",
       "      <td>2/12/2013</td>\n",
       "      <td>14.45</td>\n",
       "      <td>14.51</td>\n",
       "      <td>14.10</td>\n",
       "      <td>14.27</td>\n",
       "      <td>8126000</td>\n",
       "      <td>AAL</td>\n",
       "    </tr>\n",
       "    <tr>\n",
       "      <th>3</th>\n",
       "      <td>2/13/2013</td>\n",
       "      <td>14.30</td>\n",
       "      <td>14.94</td>\n",
       "      <td>14.25</td>\n",
       "      <td>14.66</td>\n",
       "      <td>10259500</td>\n",
       "      <td>AAL</td>\n",
       "    </tr>\n",
       "    <tr>\n",
       "      <th>4</th>\n",
       "      <td>2/14/2013</td>\n",
       "      <td>14.94</td>\n",
       "      <td>14.96</td>\n",
       "      <td>13.16</td>\n",
       "      <td>13.99</td>\n",
       "      <td>31879900</td>\n",
       "      <td>AAL</td>\n",
       "    </tr>\n",
       "  </tbody>\n",
       "</table>\n",
       "</div>"
      ],
      "text/plain": [
       "        date   open   high    low  close    volume Name\n",
       "0   2/8/2013  15.07  15.12  14.63  14.75   8407500  AAL\n",
       "1  2/11/2013  14.89  15.01  14.26  14.46   8882000  AAL\n",
       "2  2/12/2013  14.45  14.51  14.10  14.27   8126000  AAL\n",
       "3  2/13/2013  14.30  14.94  14.25  14.66  10259500  AAL\n",
       "4  2/14/2013  14.94  14.96  13.16  13.99  31879900  AAL"
      ]
     },
     "execution_count": 4,
     "metadata": {},
     "output_type": "execute_result"
    }
   ],
   "source": [
    "df.head()"
   ]
  },
  {
   "cell_type": "code",
   "execution_count": 5,
   "id": "d8fbe149",
   "metadata": {
    "scrolled": true
   },
   "outputs": [
    {
     "ename": "ModuleNotFoundError",
     "evalue": "No module named 'pandas_ta'",
     "output_type": "error",
     "traceback": [
      "\u001b[1;31m---------------------------------------------------------------------------\u001b[0m",
      "\u001b[1;31mModuleNotFoundError\u001b[0m                       Traceback (most recent call last)",
      "Input \u001b[1;32mIn [5]\u001b[0m, in \u001b[0;36m<cell line: 1>\u001b[1;34m()\u001b[0m\n\u001b[1;32m----> 1\u001b[0m \u001b[38;5;28;01mimport\u001b[39;00m \u001b[38;5;21;01mpandas_ta\u001b[39;00m \u001b[38;5;28;01mas\u001b[39;00m \u001b[38;5;21;01mta\u001b[39;00m\n",
      "\u001b[1;31mModuleNotFoundError\u001b[0m: No module named 'pandas_ta'"
     ]
    }
   ],
   "source": [
    "import pandas_ta as ta"
   ]
  },
  {
   "cell_type": "code",
   "execution_count": 6,
   "id": "a8e7d98a",
   "metadata": {},
   "outputs": [
    {
     "ename": "ValueError",
     "evalue": "The truth value of a Series is ambiguous. Use a.empty, a.bool(), a.item(), a.any() or a.all().",
     "output_type": "error",
     "traceback": [
      "\u001b[1;31m---------------------------------------------------------------------------\u001b[0m",
      "\u001b[1;31mValueError\u001b[0m                                Traceback (most recent call last)",
      "Input \u001b[1;32mIn [6]\u001b[0m, in \u001b[0;36m<cell line: 46>\u001b[1;34m()\u001b[0m\n\u001b[0;32m     42\u001b[0m \u001b[38;5;66;03m# Calculate the VWAP\u001b[39;00m\n\u001b[0;32m     43\u001b[0m vwap \u001b[38;5;241m=\u001b[39m cumulative_volume \u001b[38;5;241m/\u001b[39m total_volume\n\u001b[1;32m---> 46\u001b[0m \u001b[38;5;28;01mif\u001b[39;00m (\u001b[38;5;241m30\u001b[39m \u001b[38;5;241m<\u001b[39m\u001b[38;5;241m=\u001b[39m RSI \u001b[38;5;241m<\u001b[39m\u001b[38;5;241m=\u001b[39m \u001b[38;5;241m50\u001b[39m) \u001b[38;5;129;01mand\u001b[39;00m (vwap\u001b[38;5;241m.\u001b[39mtail(\u001b[38;5;241m1\u001b[39m)\u001b[38;5;241m.\u001b[39mvalues[\u001b[38;5;241m0\u001b[39m] \u001b[38;5;241m>\u001b[39m df[\u001b[38;5;124m'\u001b[39m\u001b[38;5;124mStock_Price\u001b[39m\u001b[38;5;124m'\u001b[39m]\u001b[38;5;241m.\u001b[39mtail(\u001b[38;5;241m1\u001b[39m)\u001b[38;5;241m.\u001b[39mvalues[\u001b[38;5;241m0\u001b[39m]):\n\u001b[0;32m     47\u001b[0m     \u001b[38;5;28mprint\u001b[39m(\u001b[38;5;124m\"\u001b[39m\u001b[38;5;124mBuy\u001b[39m\u001b[38;5;124m\"\u001b[39m)\n\u001b[0;32m     48\u001b[0m \u001b[38;5;28;01melse\u001b[39;00m:\n",
      "File \u001b[1;32mC:\\ProgramData\\Anaconda3\\lib\\site-packages\\pandas\\core\\generic.py:1527\u001b[0m, in \u001b[0;36mNDFrame.__nonzero__\u001b[1;34m(self)\u001b[0m\n\u001b[0;32m   1525\u001b[0m \u001b[38;5;129m@final\u001b[39m\n\u001b[0;32m   1526\u001b[0m \u001b[38;5;28;01mdef\u001b[39;00m \u001b[38;5;21m__nonzero__\u001b[39m(\u001b[38;5;28mself\u001b[39m):\n\u001b[1;32m-> 1527\u001b[0m     \u001b[38;5;28;01mraise\u001b[39;00m \u001b[38;5;167;01mValueError\u001b[39;00m(\n\u001b[0;32m   1528\u001b[0m         \u001b[38;5;124mf\u001b[39m\u001b[38;5;124m\"\u001b[39m\u001b[38;5;124mThe truth value of a \u001b[39m\u001b[38;5;132;01m{\u001b[39;00m\u001b[38;5;28mtype\u001b[39m(\u001b[38;5;28mself\u001b[39m)\u001b[38;5;241m.\u001b[39m\u001b[38;5;18m__name__\u001b[39m\u001b[38;5;132;01m}\u001b[39;00m\u001b[38;5;124m is ambiguous. \u001b[39m\u001b[38;5;124m\"\u001b[39m\n\u001b[0;32m   1529\u001b[0m         \u001b[38;5;124m\"\u001b[39m\u001b[38;5;124mUse a.empty, a.bool(), a.item(), a.any() or a.all().\u001b[39m\u001b[38;5;124m\"\u001b[39m\n\u001b[0;32m   1530\u001b[0m     )\n",
      "\u001b[1;31mValueError\u001b[0m: The truth value of a Series is ambiguous. Use a.empty, a.bool(), a.item(), a.any() or a.all()."
     ]
    }
   ],
   "source": [
    "import pandas as pd\n",
    "\n",
    "# Load the CSV data into a Pandas dataframe\n",
    "df = pd.read_csv('all_stocks.csv')\n",
    "\n",
    "# Define the time period for RSI calculation\n",
    "period = 14\n",
    "\n",
    "# Calculate the price change for each day\n",
    "delta = df['close'].diff()\n",
    "\n",
    "# Define the upward and downward price movements\n",
    "up = delta.where(delta > 0, 0)\n",
    "down = -delta.where(delta < 0, 0)\n",
    "\n",
    "# Calculate the exponential moving averages for upward and downward movements\n",
    "ma_up = up.ewm(span=period).mean()\n",
    "ma_down = down.ewm(span=period).mean()\n",
    "\n",
    "# Calculate the relative strength (RS) and relative strength index (RSI)\n",
    "rs = ma_up / ma_down\n",
    "RSI = 100 - (100 / (1 + rs))\n",
    "\n",
    "# Add the RSI values to the dataframe\n",
    "df['RSI'] = RSI\n",
    "\n",
    "# Calculate the typical price of each transaction\n",
    "typical_price = (df['high'] + df['low'] + df['close']) / 3\n",
    "\n",
    "# Calculate the stock price\n",
    "df['Stock_Price'] = (df['high'] + df['low']) / 2\n",
    "\n",
    "# Calculate the total volume traded at each price level\n",
    "volume_price = typical_price * df['volume']\n",
    "\n",
    "# Calculate the cumulative volume traded at each price level\n",
    "cumulative_volume = volume_price.cumsum()\n",
    "\n",
    "# Calculate the cumulative volume traded\n",
    "total_volume = df['volume'].cumsum()\n",
    "\n",
    "# Calculate the VWAP\n",
    "vwap = cumulative_volume / total_volume\n",
    "\n",
    "\n",
    "if (30 <= RSI <= 50) and (vwap.tail(1).values[0] > df['Stock_Price'].tail(1).values[0]):\n",
    "    print(\"Buy\")\n",
    "else:\n",
    "    print(\"Sell\")\n"
   ]
  },
  {
   "cell_type": "code",
   "execution_count": null,
   "id": "6e4bfd78",
   "metadata": {},
   "outputs": [],
   "source": [
    "import pandas as pd\n",
    "\n",
    "# Load the CSV data into a Pandas dataframe\n",
    "df = pd.read_csv('stockcsv/AAP_data.csv')\n",
    "\n",
    "# Define the time period for RSI calculation\n",
    "period = 7\n",
    "\n",
    "# Calculate the price change for each day\n",
    "delta = df['close'].diff()\n",
    "\n",
    "# Define the upward and downward price movements\n",
    "up = delta.where(delta > 0, 0)\n",
    "down = -delta.where(delta < 0, 0)\n",
    "\n",
    "# Calculate the exponential moving averages for upward and downward movements\n",
    "ma_up = up.ewm(span=period).mean()\n",
    "ma_down = down.ewm(span=period).mean()\n",
    "\n",
    "# Calculate the relative strength (RS) and relative strength index (RSI)\n",
    "rs = ma_up / ma_down\n",
    "RSI = 100 - (100 / (1 + rs))\n",
    "\n",
    "# Add the RSI values to the dataframe\n",
    "df['RSI'] = RSI\n",
    "\n",
    "# Calculate the typical price of each transaction\n",
    "typical_price = (df['high'] + df['low'] + df['close']) / 3\n",
    "\n",
    "# Calculate the stock price\n",
    "df['Stock_Price'] = (df['high'] + df['low']) / 2\n",
    "\n",
    "# Calculate the total volume traded at each price level\n",
    "volume_price = typical_price * df['volume']\n",
    "\n",
    "# Calculate the cumulative volume traded at each price level\n",
    "cumulative_volume = volume_price.cumsum()\n",
    "\n",
    "# Calculate the cumulative volume traded\n",
    "total_volume = df['volume'].cumsum()\n",
    "\n",
    "# Calculate the VWAP\n",
    "vwap = cumulative_volume / total_volume\n",
    "\n",
    "\n",
    "if all([(30 <= rsi <= 50) for rsi in RSI]) and (vwap.tail(1).values[0] > df['Stock_Price'].tail(1).values[0]):\n",
    "    print(\"Buy\")\n",
    "else:\n",
    "    print(\"Sell\")\n"
   ]
  },
  {
   "cell_type": "code",
   "execution_count": 7,
   "id": "3bd4849d",
   "metadata": {},
   "outputs": [
    {
     "name": "stdout",
     "output_type": "stream",
     "text": [
      "Sell\n"
     ]
    }
   ],
   "source": [
    "import pandas as pd\n",
    "\n",
    "# Load the CSV data into a Pandas dataframe\n",
    "df = pd.read_csv('stockcsv/C_data.csv')\n",
    "\n",
    "# Define the time period for RSI calculation\n",
    "period = 14\n",
    "\n",
    "# Calculate the price change for each day\n",
    "delta = df['close'].diff()\n",
    "\n",
    "# Define the upward and downward price movements\n",
    "up = delta.where(delta > 0, 0)\n",
    "down = -delta.where(delta < 0, 0)\n",
    "\n",
    "# Calculate the exponential moving averages for upward and downward movements\n",
    "ma_up = up.ewm(span=period).mean()\n",
    "ma_down = down.ewm(span=period).mean()\n",
    "\n",
    "# Calculate the relative strength (RS) and relative strength index (RSI)\n",
    "rs = ma_up / ma_down\n",
    "RSI = 100 - (100 / (1 + rs))\n",
    "\n",
    "# Add the RSI values to the dataframe\n",
    "df['RSI'] = RSI\n",
    "\n",
    "# Calculate the typical price of each transaction\n",
    "typical_price = (df['high'] + df['low'] + df['close']) / 3\n",
    "\n",
    "# Calculate the stock price\n",
    "df['Stock_Price'] = (df['high'] + df['low']) / 2\n",
    "\n",
    "# Calculate the total volume traded at each price level\n",
    "volume_price = typical_price * df['volume']\n",
    "\n",
    "# Calculate the cumulative volume traded at each price level\n",
    "cumulative_volume = volume_price.cumsum()\n",
    "\n",
    "# Calculate the cumulative volume traded\n",
    "total_volume = df['volume'].cumsum()\n",
    "\n",
    "# Calculate the VWAP\n",
    "vwap = cumulative_volume / total_volume\n",
    "\n",
    "# and (vwap.tail(1).values[0] > df['Stock_Price'].tail(1).values[0])\n",
    "\n",
    "if all([(30 <= rsi <= 50) for rsi in RSI]):\n",
    "    print(\"Buy\")\n",
    "else:\n",
    "    print(\"Sell\")\n"
   ]
  },
  {
   "cell_type": "code",
   "execution_count": null,
   "id": "82e8e595",
   "metadata": {},
   "outputs": [],
   "source": []
  },
  {
   "cell_type": "code",
   "execution_count": null,
   "id": "d5d58f93",
   "metadata": {},
   "outputs": [],
   "source": []
  }
 ],
 "metadata": {
  "kernelspec": {
   "display_name": "Python 3 (ipykernel)",
   "language": "python",
   "name": "python3"
  },
  "language_info": {
   "codemirror_mode": {
    "name": "ipython",
    "version": 3
   },
   "file_extension": ".py",
   "mimetype": "text/x-python",
   "name": "python",
   "nbconvert_exporter": "python",
   "pygments_lexer": "ipython3",
   "version": "3.9.12"
  }
 },
 "nbformat": 4,
 "nbformat_minor": 5
}
